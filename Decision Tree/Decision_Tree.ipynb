{
 "cells": [
  {
   "cell_type": "code",
   "execution_count": 3,
   "id": "f0363ae2",
   "metadata": {},
   "outputs": [],
   "source": [
    "import numpy as np\n",
    "import pandas as pd"
   ]
  },
  {
   "cell_type": "code",
   "execution_count": null,
   "id": "74f12828",
   "metadata": {},
   "outputs": [],
   "source": [
    "class Node:\n",
    "    def __init__(self,value=None,left=None,right=None,feature=None,threshold=None):\n",
    "        self.value = value \n",
    "        self.left  = left\n",
    "        self.right = right\n",
    "        self.feature = feature\n",
    "        self.threshold = threshold\n",
    "        \n",
    "    def is_leaf_node(self):\n",
    "        return not self.left and not self.right \n",
    "\n",
    "\n",
    "class Decision_Tree:\n",
    "    \n",
    "    def __init__(self,max_depth=5,min_samples_split=2):\n",
    "        self.max_depth = max_depth\n",
    "        self.min_samples_split = min_samples_split\n",
    "        self.root = None\n",
    "        \n",
    "    def common_label(self,y):\n",
    "        \n",
    "        if len(y)==0:\n",
    "            return None\n",
    "        count = np.bincount(y)\n",
    "        return np.argmax(count)\n",
    "    \n",
    "    def gini_impurity(self,y):\n",
    "        if len(y)==0:\n",
    "            return 0\n",
    "        counts = np.bincount(y)\n",
    "        probs = counts/len(y)\n",
    "        return 1-np.sum(probs**2)\n",
    "    \n",
    "    def entropy__(self,y):\n",
    "        if len(y)==0:\n",
    "            return 0\n",
    "        counts = np.bincount(y)\n",
    "        probs = counts/len(y)\n",
    "        return -np.sum(probs * np.log(probs))\n",
    "    \n",
    "    \n",
    "        \n",
    "    def best_split_(self,X,y):\n",
    "        \n",
    "        best_feature,best_threshold,best_gain = None,None,-1\n",
    "        parent_impurity = self.entropy__(y)\n",
    "        samples,features = X.shape\n",
    "        \n",
    "        for feature in range(features):\n",
    "            thresholds = np.unique(X[:,feature])\n",
    "            for threshold in thresholds:\n",
    "                left_idx = X[:,feature] <=threshold\n",
    "                right_idx = X[:,feature] > threshold\n",
    "                \n",
    "                if len(left_idx) == 0 or len(right_idx) == 0:\n",
    "                    continue\n",
    "                \n",
    "                left_gini  = self.entropy__(y[left_idx])\n",
    "                right_gini = self.entropy__(y[right_idx])\n",
    "                \n",
    "                weighted_gini = (len(y[left_idx]) * left_gini + len(y[right_idx]) * right_gini) / len(y)\n",
    "                \n",
    "                information_gain = parent_impurity - weighted_gini\n",
    "                \n",
    "                if information_gain > best_gain:\n",
    "                    best_gain = information_gain\n",
    "                    best_feature = feature\n",
    "                    best_threshold = threshold\n",
    "        return (best_feature,best_threshold)\n",
    "                    \n",
    "        \n",
    "        \n",
    "    def grow_tree_(self,X,y,depth=0):\n",
    "        \n",
    "        samples = len(y)\n",
    "        labels = len(np.unique(y))\n",
    "        \n",
    "        if depth >= self.max_depth or labels==1 or samples <=self.min_samples_split:\n",
    "            leaf_val = self.common_label(y)\n",
    "            return Node(value=leaf_val)\n",
    "        \n",
    "        feature,threshold = self.best_split_(X,y)\n",
    "        \n",
    "        if feature is None:\n",
    "            return Node(value = self.common_label(y))\n",
    "        \n",
    "        \n",
    "        left_idx = X[:, feature] <= threshold\n",
    "        right_idx = X[:, feature] > threshold\n",
    "        \n",
    "        left = self.grow_tree_(X[left_idx],y[left_idx],depth+1)\n",
    "        right = self.grow_tree_(X[right_idx],y[right_idx],depth+1)\n",
    "        \n",
    "        return Node(feature=feature,threshold=threshold,left=left,right=right)\n",
    "    \n",
    "    def traverse_tree(self,X,node):\n",
    "        \n",
    "        if node and node.is_leaf_node():\n",
    "            return node.value\n",
    "        \n",
    "        if X[node.feature] <= node.threshold:    \n",
    "            return self.traverse_tree(X,node.left)\n",
    "        else:\n",
    "            return self.traverse_tree(X,node.right)\n",
    "            \n",
    "        \n",
    "    def fit(self,X,y):\n",
    "        self.root = self.grow_tree_(X,y)\n",
    "    \n",
    "    \n",
    "    def predict(self,X):\n",
    "        return np.array([self.traverse_tree(x,self.root) for x in X])\n",
    "        \n",
    "    "
   ]
  },
  {
   "cell_type": "code",
   "execution_count": 17,
   "id": "6a6b734c",
   "metadata": {},
   "outputs": [
    {
     "name": "stderr",
     "output_type": "stream",
     "text": [
      "/tmp/ipykernel_50542/2561571364.py:36: RuntimeWarning: divide by zero encountered in log\n",
      "  return -np.sum(probs * np.log(probs))\n",
      "/tmp/ipykernel_50542/2561571364.py:36: RuntimeWarning: invalid value encountered in multiply\n",
      "  return -np.sum(probs * np.log(probs))\n"
     ]
    },
    {
     "ename": "ValueError",
     "evalue": "attempt to get argmax of an empty sequence",
     "output_type": "error",
     "traceback": [
      "\u001b[0;31m---------------------------------------------------------------------------\u001b[0m",
      "\u001b[0;31mValueError\u001b[0m                                Traceback (most recent call last)",
      "Cell \u001b[0;32mIn[17], line 5\u001b[0m\n\u001b[1;32m      2\u001b[0m y \u001b[38;5;241m=\u001b[39m np\u001b[38;5;241m.\u001b[39marray([\u001b[38;5;241m0\u001b[39m, \u001b[38;5;241m0\u001b[39m, \u001b[38;5;241m1\u001b[39m, \u001b[38;5;241m1\u001b[39m, \u001b[38;5;241m1\u001b[39m])\n\u001b[1;32m      4\u001b[0m tree \u001b[38;5;241m=\u001b[39m Decision_Tree(max_depth\u001b[38;5;241m=\u001b[39m\u001b[38;5;241m3\u001b[39m)\n\u001b[0;32m----> 5\u001b[0m tree\u001b[38;5;241m.\u001b[39mfit(X, y)\n",
      "Cell \u001b[0;32mIn[16], line 109\u001b[0m, in \u001b[0;36mDecision_Tree.fit\u001b[0;34m(self, X, y)\u001b[0m\n\u001b[1;32m    108\u001b[0m \u001b[38;5;28;01mdef\u001b[39;00m \u001b[38;5;21mfit\u001b[39m(\u001b[38;5;28mself\u001b[39m,X,y):\n\u001b[0;32m--> 109\u001b[0m     \u001b[38;5;28mself\u001b[39m\u001b[38;5;241m.\u001b[39mroot \u001b[38;5;241m=\u001b[39m \u001b[38;5;28mself\u001b[39m\u001b[38;5;241m.\u001b[39mgrow_tree_(X,y)\n",
      "Cell \u001b[0;32mIn[16], line 92\u001b[0m, in \u001b[0;36mDecision_Tree.grow_tree_\u001b[0;34m(self, X, y, depth)\u001b[0m\n\u001b[1;32m     89\u001b[0m right_idx \u001b[38;5;241m=\u001b[39m X[:, feature] \u001b[38;5;241m>\u001b[39m threshold\n\u001b[1;32m     91\u001b[0m left \u001b[38;5;241m=\u001b[39m \u001b[38;5;28mself\u001b[39m\u001b[38;5;241m.\u001b[39mgrow_tree_(X[left_idx],y[left_idx],depth\u001b[38;5;241m+\u001b[39m\u001b[38;5;241m1\u001b[39m)\n\u001b[0;32m---> 92\u001b[0m right \u001b[38;5;241m=\u001b[39m \u001b[38;5;28mself\u001b[39m\u001b[38;5;241m.\u001b[39mgrow_tree_(X[right_idx],y[right_idx],depth\u001b[38;5;241m+\u001b[39m\u001b[38;5;241m1\u001b[39m)\n\u001b[1;32m     94\u001b[0m \u001b[38;5;28;01mreturn\u001b[39;00m Node(feature\u001b[38;5;241m=\u001b[39mfeature,threshold\u001b[38;5;241m=\u001b[39mthreshold,left\u001b[38;5;241m=\u001b[39mleft,right\u001b[38;5;241m=\u001b[39mright)\n",
      "Cell \u001b[0;32mIn[16], line 91\u001b[0m, in \u001b[0;36mDecision_Tree.grow_tree_\u001b[0;34m(self, X, y, depth)\u001b[0m\n\u001b[1;32m     88\u001b[0m left_idx \u001b[38;5;241m=\u001b[39m X[:, feature] \u001b[38;5;241m<\u001b[39m\u001b[38;5;241m=\u001b[39m threshold\n\u001b[1;32m     89\u001b[0m right_idx \u001b[38;5;241m=\u001b[39m X[:, feature] \u001b[38;5;241m>\u001b[39m threshold\n\u001b[0;32m---> 91\u001b[0m left \u001b[38;5;241m=\u001b[39m \u001b[38;5;28mself\u001b[39m\u001b[38;5;241m.\u001b[39mgrow_tree_(X[left_idx],y[left_idx],depth\u001b[38;5;241m+\u001b[39m\u001b[38;5;241m1\u001b[39m)\n\u001b[1;32m     92\u001b[0m right \u001b[38;5;241m=\u001b[39m \u001b[38;5;28mself\u001b[39m\u001b[38;5;241m.\u001b[39mgrow_tree_(X[right_idx],y[right_idx],depth\u001b[38;5;241m+\u001b[39m\u001b[38;5;241m1\u001b[39m)\n\u001b[1;32m     94\u001b[0m \u001b[38;5;28;01mreturn\u001b[39;00m Node(feature\u001b[38;5;241m=\u001b[39mfeature,threshold\u001b[38;5;241m=\u001b[39mthreshold,left\u001b[38;5;241m=\u001b[39mleft,right\u001b[38;5;241m=\u001b[39mright)\n",
      "Cell \u001b[0;32mIn[16], line 92\u001b[0m, in \u001b[0;36mDecision_Tree.grow_tree_\u001b[0;34m(self, X, y, depth)\u001b[0m\n\u001b[1;32m     89\u001b[0m right_idx \u001b[38;5;241m=\u001b[39m X[:, feature] \u001b[38;5;241m>\u001b[39m threshold\n\u001b[1;32m     91\u001b[0m left \u001b[38;5;241m=\u001b[39m \u001b[38;5;28mself\u001b[39m\u001b[38;5;241m.\u001b[39mgrow_tree_(X[left_idx],y[left_idx],depth\u001b[38;5;241m+\u001b[39m\u001b[38;5;241m1\u001b[39m)\n\u001b[0;32m---> 92\u001b[0m right \u001b[38;5;241m=\u001b[39m \u001b[38;5;28mself\u001b[39m\u001b[38;5;241m.\u001b[39mgrow_tree_(X[right_idx],y[right_idx],depth\u001b[38;5;241m+\u001b[39m\u001b[38;5;241m1\u001b[39m)\n\u001b[1;32m     94\u001b[0m \u001b[38;5;28;01mreturn\u001b[39;00m Node(feature\u001b[38;5;241m=\u001b[39mfeature,threshold\u001b[38;5;241m=\u001b[39mthreshold,left\u001b[38;5;241m=\u001b[39mleft,right\u001b[38;5;241m=\u001b[39mright)\n",
      "Cell \u001b[0;32mIn[16], line 79\u001b[0m, in \u001b[0;36mDecision_Tree.grow_tree_\u001b[0;34m(self, X, y, depth)\u001b[0m\n\u001b[1;32m     76\u001b[0m labels \u001b[38;5;241m=\u001b[39m \u001b[38;5;28mlen\u001b[39m(np\u001b[38;5;241m.\u001b[39munique(y))\n\u001b[1;32m     78\u001b[0m \u001b[38;5;28;01mif\u001b[39;00m depth \u001b[38;5;241m>\u001b[39m\u001b[38;5;241m=\u001b[39m \u001b[38;5;28mself\u001b[39m\u001b[38;5;241m.\u001b[39mmax_depth \u001b[38;5;129;01mor\u001b[39;00m labels\u001b[38;5;241m==\u001b[39m\u001b[38;5;241m1\u001b[39m \u001b[38;5;129;01mor\u001b[39;00m samples \u001b[38;5;241m<\u001b[39m\u001b[38;5;241m=\u001b[39m\u001b[38;5;28mself\u001b[39m\u001b[38;5;241m.\u001b[39mmin_samples_split:\n\u001b[0;32m---> 79\u001b[0m     leaf_val \u001b[38;5;241m=\u001b[39m \u001b[38;5;28mself\u001b[39m\u001b[38;5;241m.\u001b[39mcommon_label(y)\n\u001b[1;32m     80\u001b[0m     \u001b[38;5;28;01mreturn\u001b[39;00m Node(value\u001b[38;5;241m=\u001b[39mleaf_val)\n\u001b[1;32m     82\u001b[0m feature,threshold \u001b[38;5;241m=\u001b[39m \u001b[38;5;28mself\u001b[39m\u001b[38;5;241m.\u001b[39mbest_split_(X,y)\n",
      "Cell \u001b[0;32mIn[16], line 22\u001b[0m, in \u001b[0;36mDecision_Tree.common_label\u001b[0;34m(self, y)\u001b[0m\n\u001b[1;32m     20\u001b[0m \u001b[38;5;28;01mdef\u001b[39;00m \u001b[38;5;21mcommon_label\u001b[39m(\u001b[38;5;28mself\u001b[39m,y):\n\u001b[1;32m     21\u001b[0m     count \u001b[38;5;241m=\u001b[39m np\u001b[38;5;241m.\u001b[39mbincount(y)\n\u001b[0;32m---> 22\u001b[0m     \u001b[38;5;28;01mreturn\u001b[39;00m np\u001b[38;5;241m.\u001b[39margmax(count)\n",
      "File \u001b[0;32m~/anaconda3/lib/python3.12/site-packages/numpy/core/fromnumeric.py:1229\u001b[0m, in \u001b[0;36margmax\u001b[0;34m(a, axis, out, keepdims)\u001b[0m\n\u001b[1;32m   1142\u001b[0m \u001b[38;5;250m\u001b[39m\u001b[38;5;124;03m\"\"\"\u001b[39;00m\n\u001b[1;32m   1143\u001b[0m \u001b[38;5;124;03mReturns the indices of the maximum values along an axis.\u001b[39;00m\n\u001b[1;32m   1144\u001b[0m \n\u001b[0;32m   (...)\u001b[0m\n\u001b[1;32m   1226\u001b[0m \u001b[38;5;124;03m(2, 1, 4)\u001b[39;00m\n\u001b[1;32m   1227\u001b[0m \u001b[38;5;124;03m\"\"\"\u001b[39;00m\n\u001b[1;32m   1228\u001b[0m kwds \u001b[38;5;241m=\u001b[39m {\u001b[38;5;124m'\u001b[39m\u001b[38;5;124mkeepdims\u001b[39m\u001b[38;5;124m'\u001b[39m: keepdims} \u001b[38;5;28;01mif\u001b[39;00m keepdims \u001b[38;5;129;01mis\u001b[39;00m \u001b[38;5;129;01mnot\u001b[39;00m np\u001b[38;5;241m.\u001b[39m_NoValue \u001b[38;5;28;01melse\u001b[39;00m {}\n\u001b[0;32m-> 1229\u001b[0m \u001b[38;5;28;01mreturn\u001b[39;00m _wrapfunc(a, \u001b[38;5;124m'\u001b[39m\u001b[38;5;124margmax\u001b[39m\u001b[38;5;124m'\u001b[39m, axis\u001b[38;5;241m=\u001b[39maxis, out\u001b[38;5;241m=\u001b[39mout, \u001b[38;5;241m*\u001b[39m\u001b[38;5;241m*\u001b[39mkwds)\n",
      "File \u001b[0;32m~/anaconda3/lib/python3.12/site-packages/numpy/core/fromnumeric.py:59\u001b[0m, in \u001b[0;36m_wrapfunc\u001b[0;34m(obj, method, *args, **kwds)\u001b[0m\n\u001b[1;32m     56\u001b[0m     \u001b[38;5;28;01mreturn\u001b[39;00m _wrapit(obj, method, \u001b[38;5;241m*\u001b[39margs, \u001b[38;5;241m*\u001b[39m\u001b[38;5;241m*\u001b[39mkwds)\n\u001b[1;32m     58\u001b[0m \u001b[38;5;28;01mtry\u001b[39;00m:\n\u001b[0;32m---> 59\u001b[0m     \u001b[38;5;28;01mreturn\u001b[39;00m bound(\u001b[38;5;241m*\u001b[39margs, \u001b[38;5;241m*\u001b[39m\u001b[38;5;241m*\u001b[39mkwds)\n\u001b[1;32m     60\u001b[0m \u001b[38;5;28;01mexcept\u001b[39;00m \u001b[38;5;167;01mTypeError\u001b[39;00m:\n\u001b[1;32m     61\u001b[0m     \u001b[38;5;66;03m# A TypeError occurs if the object does have such a method in its\u001b[39;00m\n\u001b[1;32m     62\u001b[0m     \u001b[38;5;66;03m# class, but its signature is not identical to that of NumPy's. This\u001b[39;00m\n\u001b[0;32m   (...)\u001b[0m\n\u001b[1;32m     66\u001b[0m     \u001b[38;5;66;03m# Call _wrapit from within the except clause to ensure a potential\u001b[39;00m\n\u001b[1;32m     67\u001b[0m     \u001b[38;5;66;03m# exception has a traceback chain.\u001b[39;00m\n\u001b[1;32m     68\u001b[0m     \u001b[38;5;28;01mreturn\u001b[39;00m _wrapit(obj, method, \u001b[38;5;241m*\u001b[39margs, \u001b[38;5;241m*\u001b[39m\u001b[38;5;241m*\u001b[39mkwds)\n",
      "\u001b[0;31mValueError\u001b[0m: attempt to get argmax of an empty sequence"
     ]
    }
   ],
   "source": [
    "X = np.array([[1, 1], [2, 1], [3, 0], [4, 0], [5, 1]])\n",
    "y = np.array([0, 0, 1, 1, 1])\n",
    "\n",
    "tree = Decision_Tree(max_depth=3)\n",
    "tree.fit(X, y)"
   ]
  },
  {
   "cell_type": "code",
   "execution_count": 18,
   "id": "8fb4269a",
   "metadata": {},
   "outputs": [
    {
     "ename": "AttributeError",
     "evalue": "'NoneType' object has no attribute 'feature'",
     "output_type": "error",
     "traceback": [
      "\u001b[0;31m---------------------------------------------------------------------------\u001b[0m",
      "\u001b[0;31mAttributeError\u001b[0m                            Traceback (most recent call last)",
      "Cell \u001b[0;32mIn[18], line 1\u001b[0m\n\u001b[0;32m----> 1\u001b[0m \u001b[38;5;28mprint\u001b[39m(tree\u001b[38;5;241m.\u001b[39mpredict(np\u001b[38;5;241m.\u001b[39marray([[\u001b[38;5;241m1.5\u001b[39m, \u001b[38;5;241m1\u001b[39m], [\u001b[38;5;241m3.5\u001b[39m, \u001b[38;5;241m0\u001b[39m]])))\n",
      "Cell \u001b[0;32mIn[16], line 113\u001b[0m, in \u001b[0;36mDecision_Tree.predict\u001b[0;34m(self, X)\u001b[0m\n\u001b[1;32m    112\u001b[0m \u001b[38;5;28;01mdef\u001b[39;00m \u001b[38;5;21mpredict\u001b[39m(\u001b[38;5;28mself\u001b[39m,X):\n\u001b[0;32m--> 113\u001b[0m     \u001b[38;5;28;01mreturn\u001b[39;00m np\u001b[38;5;241m.\u001b[39marray([\u001b[38;5;28mself\u001b[39m\u001b[38;5;241m.\u001b[39mtraverse_tree(x,\u001b[38;5;28mself\u001b[39m\u001b[38;5;241m.\u001b[39mroot) \u001b[38;5;28;01mfor\u001b[39;00m x \u001b[38;5;129;01min\u001b[39;00m X])\n",
      "Cell \u001b[0;32mIn[16], line 101\u001b[0m, in \u001b[0;36mDecision_Tree.traverse_tree\u001b[0;34m(self, X, node)\u001b[0m\n\u001b[1;32m     98\u001b[0m \u001b[38;5;28;01mif\u001b[39;00m node \u001b[38;5;129;01mand\u001b[39;00m node\u001b[38;5;241m.\u001b[39mis_leaf_node():\n\u001b[1;32m     99\u001b[0m     \u001b[38;5;28;01mreturn\u001b[39;00m node\u001b[38;5;241m.\u001b[39mvalue\n\u001b[0;32m--> 101\u001b[0m \u001b[38;5;28;01mif\u001b[39;00m X[node\u001b[38;5;241m.\u001b[39mfeature] \u001b[38;5;241m<\u001b[39m\u001b[38;5;241m=\u001b[39m node\u001b[38;5;241m.\u001b[39mthreshold:    \n\u001b[1;32m    102\u001b[0m     \u001b[38;5;28;01mreturn\u001b[39;00m \u001b[38;5;28mself\u001b[39m\u001b[38;5;241m.\u001b[39mtraverse_tree(X,node\u001b[38;5;241m.\u001b[39mleft)\n\u001b[1;32m    103\u001b[0m \u001b[38;5;28;01melse\u001b[39;00m:\n",
      "\u001b[0;31mAttributeError\u001b[0m: 'NoneType' object has no attribute 'feature'"
     ]
    }
   ],
   "source": [
    "print(tree.predict(np.array([[1.5, 1], [3.5, 0]])))  # Expected: [0, 1]\n"
   ]
  },
  {
   "cell_type": "code",
   "execution_count": null,
   "id": "de0bdd83",
   "metadata": {},
   "outputs": [],
   "source": []
  }
 ],
 "metadata": {
  "kernelspec": {
   "display_name": "base",
   "language": "python",
   "name": "python3"
  },
  "language_info": {
   "codemirror_mode": {
    "name": "ipython",
    "version": 3
   },
   "file_extension": ".py",
   "mimetype": "text/x-python",
   "name": "python",
   "nbconvert_exporter": "python",
   "pygments_lexer": "ipython3",
   "version": "3.12.7"
  }
 },
 "nbformat": 4,
 "nbformat_minor": 5
}
