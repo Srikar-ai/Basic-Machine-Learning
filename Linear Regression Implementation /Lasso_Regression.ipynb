{
 "cells": [
  {
   "cell_type": "code",
   "execution_count": null,
   "id": "e98afef0",
   "metadata": {},
   "outputs": [],
   "source": [
    "import numpy as np\n",
    "import pandas as pd \n",
    "from sklearn.linear_model import LassoCV"
   ]
  },
  {
   "cell_type": "markdown",
   "id": "365038e0",
   "metadata": {},
   "source": [
    "* Lasso Regression \n",
    "    * Cannot be done using Normal Equation as |X| is not differential at X=0 \n",
    "    * Using coordinate descent (As gradient decent struggles because it is not differentiable)."
   ]
  },
  {
   "cell_type": "code",
   "execution_count": null,
   "id": "fd1bf2f7",
   "metadata": {},
   "outputs": [],
   "source": [
    "np.random.seed(42)\n",
    "X = 2*np.random.rand(1,100,2)\n",
    "weights = [3,5]\n",
    "y = 8 + X @ weights + np.random.randn(100)\n",
    "y = y.reshape(-1,1)\n",
    "X = X.reshape(100,2)\n",
    "print(X.shape)\n",
    "print(y.shape)"
   ]
  },
  {
   "cell_type": "code",
   "execution_count": null,
   "id": "d3d98df9",
   "metadata": {},
   "outputs": [],
   "source": [
    "X"
   ]
  },
  {
   "cell_type": "code",
   "execution_count": null,
   "id": "01bd062c",
   "metadata": {},
   "outputs": [],
   "source": [
    "y"
   ]
  },
  {
   "cell_type": "code",
   "execution_count": null,
   "id": "ca38f593",
   "metadata": {},
   "outputs": [],
   "source": [
    "class Lasso_Regression:\n",
    "    \n",
    "    def __init__(self,alpha):   \n",
    "        self.alpha = alpha\n",
    "        self.weights = None\n",
    "        self.iter=1000\n",
    "        \n",
    "    def soft_thresholding(self,rho,lam):\n",
    "        if rho>lam:\n",
    "            return rho-lam\n",
    "        elif rho<-lam:\n",
    "            return rho+lam\n",
    "        else:\n",
    "            return 0    \n",
    "        \n",
    "    def fit(self,X,y):\n",
    "        \n",
    "        row,cols = X.shape\n",
    "        y = np.asarray(y).flatten()\n",
    "        X_b = np.hstack([np.ones((row, 1)), X])\n",
    "        self.weights = np.zeros(cols+1)\n",
    "        \n",
    "        for _ in range(self.iter):\n",
    "            for j in range(cols+1):\n",
    "                \n",
    "                \n",
    "                # y_pred\n",
    "                y_pred =  X_b @ self.weights\n",
    "                \n",
    "                # yresid = y - y_pred + (add to remove the effect of the weights)\n",
    "                y_residual = y-y_pred + self.weights[j]*X_b[:,j]\n",
    "                \n",
    "                \n",
    "                rho = np.dot(y_residual, X_b[:, j])\n",
    "\n",
    "                if j==0:\n",
    "                    self.weights[j] = rho / row\n",
    "                else:\n",
    "                    self.weights[j] = self.soft_thresholding(rho / row,self.alpha)\n",
    "                    \n",
    "        \n",
    "    def predict(self,X):\n",
    "        row,cols = X.shape\n",
    "        ones = np.ones((X.shape[0],1))\n",
    "        X_b = np.hstack([ones,X])\n",
    "        \n",
    "        return X_b @ self.weights\n",
    "    \n",
    "    \n",
    "    \n",
    "        \n",
    "        \n",
    "        "
   ]
  },
  {
   "cell_type": "code",
   "execution_count": null,
   "id": "a8f94d41",
   "metadata": {},
   "outputs": [],
   "source": [
    "model = Lasso_Regression(0.5)"
   ]
  },
  {
   "cell_type": "code",
   "execution_count": null,
   "id": "35606adf",
   "metadata": {},
   "outputs": [],
   "source": [
    "from sklearn.model_selection import train_test_split\n",
    "\n",
    "\n",
    "X_train,X_test,y_train,y_test = train_test_split(X,y,test_size=0.3,shuffle=True)\n"
   ]
  },
  {
   "cell_type": "code",
   "execution_count": null,
   "id": "11760ba8",
   "metadata": {},
   "outputs": [],
   "source": [
    "model.fit(X_train,y_train)"
   ]
  },
  {
   "cell_type": "code",
   "execution_count": null,
   "id": "2ecfe964",
   "metadata": {},
   "outputs": [],
   "source": [
    "from sklearn.metrics import mean_squared_error\n",
    "\n",
    "y_pred = model.predict(X_test)\n",
    "\n",
    "\n",
    "mean_squared_error(y_pred,y_test)\n"
   ]
  },
  {
   "cell_type": "code",
   "execution_count": null,
   "id": "3f4bfd05",
   "metadata": {},
   "outputs": [],
   "source": [
    "model = LassoCV(alphas=[0.5])"
   ]
  },
  {
   "cell_type": "code",
   "execution_count": null,
   "id": "b56ce95f",
   "metadata": {},
   "outputs": [],
   "source": [
    "model.fit(X_train,y_train)\n",
    "\n",
    "y_pred =model.predict(X_test)\n",
    "\n",
    "mean_squared_error(y_pred,y_test)"
   ]
  }
 ],
 "metadata": {
  "kernelspec": {
   "display_name": "base",
   "language": "python",
   "name": "python3"
  },
  "language_info": {
   "codemirror_mode": {
    "name": "ipython",
    "version": 3
   },
   "file_extension": ".py",
   "mimetype": "text/x-python",
   "name": "python",
   "nbconvert_exporter": "python",
   "pygments_lexer": "ipython3",
   "version": "3.12.7"
  }
 },
 "nbformat": 4,
 "nbformat_minor": 5
}
