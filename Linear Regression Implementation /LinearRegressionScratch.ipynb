{
 "cells": [
  {
   "cell_type": "markdown",
   "id": "24850ad9",
   "metadata": {},
   "source": [
    "### Linear Regression Implementation from Scratch Using Python \n",
    "\n",
    "\n",
    "* Linear Regression is supervised algorithm.\n",
    "* Linear Regression Models Linear relationship between the dependent variable and independent variable.\n",
    "* Equation is given by : ```y=β0​+β1​x1​+β2​x2​+⋯+βn​xn​```"
   ]
  },
  {
   "cell_type": "markdown",
   "id": "fd6515de",
   "metadata": {},
   "source": [
    "### Working of the Linear Regression Model\n",
    "\n",
    "\n",
    "1) Initialize weights \n",
    "2) Predict using Weights \n",
    "3) Compute loss using loss functions(MSE,RMSE,MAE)\n",
    "4) Update the weight to decrease the loss function \n",
    "5) Repeat until there is convergence or loss stops decreasing."
   ]
  },
  {
   "cell_type": "code",
   "execution_count": null,
   "id": "0b2d6319",
   "metadata": {},
   "outputs": [],
   "source": [
    "import numpy as np \n",
    "\n",
    "\n",
    "\n",
    "\n",
    "class Linear_Regression_Scratch:\n",
    "    \n",
    "    def __init__(self,lr=1e-10,n_iters=100000):\n",
    "        # We need learning rate to update the weights \n",
    "        self.lr = lr\n",
    "        # We need total iterations to reduce the loss \n",
    "        self.iterations = n_iters\n",
    "        # We need Weights and bias \n",
    "        self.weights = None\n",
    "        self.bias = None\n",
    "        \n",
    "        \n",
    "    def fit(self,X,y):\n",
    "        \n",
    "        # n = X.shape[0]\n",
    "        # # We need to create W1,W2,...Wn based on the number of features\n",
    "        # total_features = X.shape[1]\n",
    "        # # Initalize the weights and bias \n",
    "        \n",
    "        # self.weights = np.zeros(total_features)\n",
    "        # # weights = [0,0,0.....n]\n",
    "        # self.bias = 0 \n",
    "        # # bias = 0\n",
    "        \n",
    "        # for iter in range(self.iterations):\n",
    "            \n",
    "        #     # according to the equation WX+b\n",
    "        #     y_pred = np.dot(X,self.weights) + self.bias\n",
    "            \n",
    "        #     # Partial derivates of the loss function\n",
    "        #     dw = (1.0 / n) * np.dot(X.T,(y-y_pred))\n",
    "            \n",
    "        #     db = (1.0/ n ) * np.sum(y-y_pred)\n",
    "            \n",
    "        #     #Update the weights & bias \n",
    "        #     self.weights -= self.lr * dw \n",
    "            \n",
    "            \n",
    "        #     self.bias -= self.lr * db\n",
    "        \n",
    "        \n",
    "        \n",
    "        # Using Normal Equation (scikit learn using this method instead of the gradient descent).\n",
    "        ones = np.ones((X.shape[0], 1))\n",
    "        X_b = np.hstack([ones, X])\n",
    "        \n",
    "        XTX = X_b.T.dot(X_b)\n",
    "        XTy = X_b.T.dot(y)\n",
    "        self.weights = np.linalg.inv(XTX).dot(XTy)\n",
    "            \n",
    "            \n",
    "    def predict(self,X):\n",
    "        # return np.dot(self.weights,X.T) + self.bias\n",
    "        ones = np.ones((X.shape[0], 1))\n",
    "        X_b = np.hstack([ones,X])\n",
    "        \n",
    "        return X_b.dot(self.weights)\n",
    "    "
   ]
  },
  {
   "cell_type": "markdown",
   "id": "ba831f0c",
   "metadata": {},
   "source": [
    "### Prepare the dataset for testing the models"
   ]
  },
  {
   "cell_type": "code",
   "execution_count": null,
   "id": "9e55f49b",
   "metadata": {},
   "outputs": [],
   "source": [
    "from sklearn.model_selection import train_test_split\n",
    "from sklearn.datasets import make_regression\n",
    "from sklearn.metrics import mean_squared_error\n",
    "\n",
    "\n",
    "X, y = make_regression(n_samples=100, n_features=1, noise=15, random_state=42)\n",
    "\n",
    "print(X.shape)\n",
    "X_train,X_test,y_train,y_test = train_test_split(X,y,test_size=0.3,random_state=42)"
   ]
  },
  {
   "cell_type": "markdown",
   "id": "e4040dbf",
   "metadata": {},
   "source": [
    "### Using the Linear Regression from the scikit learn library."
   ]
  },
  {
   "cell_type": "code",
   "execution_count": null,
   "id": "88655d8b",
   "metadata": {},
   "outputs": [],
   "source": [
    "from sklearn.linear_model import LinearRegression\n",
    "\n",
    "\n",
    "model = LinearRegression()\n",
    "\n",
    "# Given the packages uses normal equation to estimate the weights\n",
    "\n",
    "print('Train X shape : ',X_train.shape)\n",
    "print('Train y shape : ',y_train.shape)\n",
    "model.fit(X_train,y_train)\n",
    "\n",
    "print('Test X shape : ',X_test.shape)\n",
    "y_pred = model.predict(X_test)\n",
    "print('y_pred shape : ',y_pred.shape)\n",
    "print('y_test shape : ',y_test.shape)\n",
    "print('Mean Square Error :', mean_squared_error(y_test,y_pred))"
   ]
  },
  {
   "cell_type": "markdown",
   "id": "92e65e2d",
   "metadata": {},
   "source": [
    "### Testing the Model"
   ]
  },
  {
   "cell_type": "code",
   "execution_count": null,
   "id": "999da318",
   "metadata": {},
   "outputs": [],
   "source": [
    "from sklearn.preprocessing import StandardScaler\n",
    "\n",
    "\n",
    "model = Linear_Regression_Scratch()\n",
    "\n",
    "# We are using gradient descent so the performance will be low compared to scikit learn package\n",
    "\n",
    "print('Train X shape : ',X_train.shape)\n",
    "print('Train y shape : ',y_train.shape)\n",
    "model.fit(X_train,y_train)\n",
    "print(X_test.shape)\n",
    "y_pred = model.predict(X_test)\n",
    "\n",
    "print('MSE : ', mean_squared_error(y_test,y_pred))\n",
    "\n",
    "\n",
    "\n"
   ]
  },
  {
   "cell_type": "markdown",
   "id": "7dee774e",
   "metadata": {},
   "source": [
    "### Optimized Linear Regression "
   ]
  },
  {
   "cell_type": "code",
   "execution_count": null,
   "id": "c1d2780f",
   "metadata": {},
   "outputs": [],
   "source": [
    "class Linear_Regression_Optimized:\n",
    "    # Initialize the weights\n",
    "    def __init__(self):\n",
    "        self.weights = None\n",
    "    # Fit the data\n",
    "    def fit(self,X,y):\n",
    "        row,cols=X.shape\n",
    "        ones = np.ones((X.shape[0],1))\n",
    "        X_b = np.hstack([ones,X])\n",
    "        self.weights =  np.linalg.inv(X_b.T @ X_b).dot(X_b.T @ y)\n",
    "        print(self.weights)\n",
    "    # Predict the values\n",
    "    def predict(self,X_test):\n",
    "        ones = np.ones((X_test.shape[0],1))\n",
    "        X_b = np.hstack([ones,X_test])\n",
    "        return X_b @ self.weights"
   ]
  },
  {
   "cell_type": "code",
   "execution_count": null,
   "id": "df013d8f",
   "metadata": {},
   "outputs": [],
   "source": [
    "model = Linear_Regression_Optimized()"
   ]
  },
  {
   "cell_type": "code",
   "execution_count": null,
   "id": "43b9d0ef",
   "metadata": {},
   "outputs": [],
   "source": [
    "model.fit(X_train,y_train)"
   ]
  },
  {
   "cell_type": "code",
   "execution_count": null,
   "id": "3ab72627",
   "metadata": {},
   "outputs": [],
   "source": [
    "X_train,X_test,y_train,y_test"
   ]
  },
  {
   "cell_type": "code",
   "execution_count": null,
   "id": "5f82f20f",
   "metadata": {},
   "outputs": [],
   "source": [
    "X_train.shape"
   ]
  },
  {
   "cell_type": "code",
   "execution_count": null,
   "id": "bf897db5",
   "metadata": {},
   "outputs": [],
   "source": [
    "X_test.shape"
   ]
  },
  {
   "cell_type": "code",
   "execution_count": null,
   "id": "687701b7",
   "metadata": {},
   "outputs": [],
   "source": [
    "y_pred = model.predict(X_test)"
   ]
  },
  {
   "cell_type": "code",
   "execution_count": null,
   "id": "44f9528f",
   "metadata": {},
   "outputs": [],
   "source": [
    "mean_squared_error(y_test,y_pred)"
   ]
  }
 ],
 "metadata": {
  "kernelspec": {
   "display_name": "base",
   "language": "python",
   "name": "python3"
  },
  "language_info": {
   "codemirror_mode": {
    "name": "ipython",
    "version": 3
   },
   "file_extension": ".py",
   "mimetype": "text/x-python",
   "name": "python",
   "nbconvert_exporter": "python",
   "pygments_lexer": "ipython3",
   "version": "3.12.7"
  }
 },
 "nbformat": 4,
 "nbformat_minor": 5
}
