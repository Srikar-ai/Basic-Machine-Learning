{
 "cells": [
  {
   "cell_type": "code",
   "execution_count": null,
   "id": "162c0b05",
   "metadata": {},
   "outputs": [],
   "source": [
    "import numpy as np \n",
    "import pandas as pd\n",
    "import matplotlib.pyplot as plt "
   ]
  },
  {
   "cell_type": "markdown",
   "id": "cbb6b523",
   "metadata": {},
   "source": [
    "* Ridge Regression \n",
    "    * Adding new penalty term to reduce the variance of the model \n",
    "    * Reduces overfitting \n",
    "    "
   ]
  },
  {
   "cell_type": "code",
   "execution_count": null,
   "id": "ecd3791d",
   "metadata": {},
   "outputs": [],
   "source": [
    "# np.random.seed(42)\n",
    "# X = 2*np.random.rand(1,100,2)\n",
    "# weights = [3,5]\n",
    "# y = 8 + X @ weights + np.random.randn(100)\n",
    "# y = y.reshape(-1,1)\n",
    "# X = X.reshape(100,2)\n",
    "# print(X.shape)\n",
    "# print(y.shape)"
   ]
  },
  {
   "cell_type": "code",
   "execution_count": null,
   "id": "24d0684a",
   "metadata": {},
   "outputs": [],
   "source": [
    "plt.figure(figsize=(12, 5))\n",
    "plt.subplot(1, 2, 1)\n",
    "plt.scatter(X[:, 0], y)\n",
    "plt.title(\"Feature 1 vs y\")\n",
    "\n",
    "plt.subplot(1, 2, 2)\n",
    "plt.scatter(X[:, 1], y)\n",
    "plt.title(\"Feature 2 vs y\")\n",
    "plt.show()"
   ]
  },
  {
   "cell_type": "code",
   "execution_count": null,
   "id": "2e3c9c79",
   "metadata": {},
   "outputs": [],
   "source": [
    "from sklearn.model_selection import train_test_split\n",
    "\n",
    "\n",
    "X_train,X_test,y_train,y_test = train_test_split(X,y,test_size=0.3,random_state=42) "
   ]
  },
  {
   "cell_type": "code",
   "execution_count": null,
   "id": "e00387f7",
   "metadata": {},
   "outputs": [],
   "source": [
    "class RidgeRegression:\n",
    "    def __init__(self,alpha):\n",
    "        self.alpha = alpha \n",
    "        self.weights = None\n",
    "        \n",
    "    def fit(self,X,y):\n",
    "        \"\"\"\n",
    "        Fit method using closed form solution.\n",
    "        \"\"\"\n",
    "        row,cols = X.shape\n",
    "        Id = self.alpha * np.eye(cols)\n",
    "        XTX =  X.T @ X + Id\n",
    "        \n",
    "        a = np.linalg.inv(XTX)\n",
    "        b = X.T @ y \n",
    "        \n",
    "        self.weights  = a @ b\n",
    "        \n",
    "    def predict(self,X):    \n",
    "        \"\"\"\n",
    "        Prediction \n",
    "        \"\"\"\n",
    "        return X @ self.weights"
   ]
  },
  {
   "cell_type": "code",
   "execution_count": null,
   "id": "fc44f2e7",
   "metadata": {},
   "outputs": [],
   "source": [
    "model = RidgeRegression(0.5)"
   ]
  },
  {
   "cell_type": "code",
   "execution_count": null,
   "id": "de92a70f",
   "metadata": {},
   "outputs": [],
   "source": [
    "model.fit(X_train,y_train)\n"
   ]
  },
  {
   "cell_type": "code",
   "execution_count": null,
   "id": "94a05b68",
   "metadata": {},
   "outputs": [],
   "source": [
    "y_pred = model.predict(X_test)\n"
   ]
  },
  {
   "cell_type": "code",
   "execution_count": null,
   "id": "c2e9c621",
   "metadata": {},
   "outputs": [],
   "source": [
    "from  sklearn.metrics import mean_squared_error\n",
    "\n",
    "mean_squared_error(y_pred,y_test) "
   ]
  },
  {
   "cell_type": "code",
   "execution_count": null,
   "id": "bc37c514",
   "metadata": {},
   "outputs": [],
   "source": [
    "from sklearn.linear_model import RidgeCV\n",
    "\n",
    "\n",
    "model = RidgeCV(alphas=[0.5],cv=2)\n",
    "\n",
    "model.fit(X_train,y_train)\n",
    "\n",
    "y_pred = model.predict(X_test)\n",
    "\n",
    "mean_squared_error(y_pred,y_test)"
   ]
  },
  {
   "cell_type": "code",
   "execution_count": null,
   "id": "a76d2245",
   "metadata": {},
   "outputs": [],
   "source": []
  }
 ],
 "metadata": {
  "kernelspec": {
   "display_name": "base",
   "language": "python",
   "name": "python3"
  },
  "language_info": {
   "codemirror_mode": {
    "name": "ipython",
    "version": 3
   },
   "file_extension": ".py",
   "mimetype": "text/x-python",
   "name": "python",
   "nbconvert_exporter": "python",
   "pygments_lexer": "ipython3",
   "version": "3.12.7"
  }
 },
 "nbformat": 4,
 "nbformat_minor": 5
}
