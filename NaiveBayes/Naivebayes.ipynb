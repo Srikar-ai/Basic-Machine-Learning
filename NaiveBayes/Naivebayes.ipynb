{
 "cells": [
  {
   "cell_type": "code",
   "execution_count": 1,
   "id": "33b82ea2",
   "metadata": {},
   "outputs": [],
   "source": [
    "import numpy as np\n",
    "import pandas as pd\n"
   ]
  },
  {
   "cell_type": "code",
   "execution_count": null,
   "id": "5ead722f",
   "metadata": {},
   "outputs": [],
   "source": [
    "class NB:\n",
    "    \n",
    "    \n",
    "    def fit(self,X,y):\n",
    "        \"\"\"\n",
    "        This is the fit function calculating mean,variance,priors \n",
    "        \n",
    "        \"\"\"\n",
    "        samples,features = X.shape\n",
    "        \n",
    "        self.classes = np.unique(y)\n",
    "        n_classes = len(self.classes)\n",
    "        \n",
    "        \n",
    "        self.mean = np.zeros((n_classes,features))\n",
    "        self.var = np.zeros((n_classes,features))\n",
    "        \n",
    "        self.priors = np.zeros(n_classes)\n",
    "        \n",
    "        \n",
    "        for index,class_ in enumerate(self.classes):\n",
    "            X_c = X[y==class_]\n",
    "            self.mean[index,:]=X_c.mean(axis=0)\n",
    "            self.var[index,:] = X_c.var(axis=0)+1e-9\n",
    "            self.priors[index] = X_c.shape[0]/float(samples)\n",
    "            \n",
    "    def _pdf(self,class_index,x):\n",
    "        \n",
    "        \"\"\"\n",
    "        This function is to compute PDF(Gaussian Naive Bayes) \n",
    "        \n",
    "        \"\"\"\n",
    "        mean = self.mean[class_index]\n",
    "        var = self.var[class_index]\n",
    "        numerator = np.exp(-(x-mean)**2/(2*var))\n",
    "        deno = np.sqrt(2*np.pi*var)\n",
    "        return numerator/deno        \n",
    "            \n",
    "    def _predict(self,X):\n",
    "        \"\"\"\n",
    "        Calculating Posterior for the each class and returing argmax \n",
    "        \n",
    "        \"\"\"\n",
    "        posteriors = []\n",
    "        for index,class_ in enumerate(self.classes):\n",
    "            \n",
    "            prior = np.log(self.priors[index])\n",
    "            \n",
    "            class_conditional = np.sum(np.log(self._pdf(index,X)))\n",
    "            \n",
    "            posterior = prior + class_conditional\n",
    "            \n",
    "            posteriors.append(posterior)\n",
    "        return self.classes[np.argmax(posteriors)]\n",
    "    \n",
    "    def predict(self,X):\n",
    "        return np.array([self._predict(x) for x in X])\n",
    "    \n",
    "            "
   ]
  },
  {
   "cell_type": "code",
   "execution_count": 6,
   "id": "27872ace",
   "metadata": {},
   "outputs": [
    {
     "name": "stdout",
     "output_type": "stream",
     "text": [
      "Accuracy: 0.9777777777777777\n"
     ]
    }
   ],
   "source": [
    "from sklearn.datasets import load_iris\n",
    "from sklearn.model_selection import train_test_split\n",
    "\n",
    "# Load dataset\n",
    "X, y = load_iris(return_X_y=True)\n",
    "X_train, X_test, y_train, y_test = train_test_split(X, y, test_size=0.3, random_state=42)\n",
    "\n",
    "# Train from scratch Naive Bayes\n",
    "nb = NB()\n",
    "nb.fit(X_train, y_train)\n",
    "predictions = nb.predict(X_test)\n",
    "\n",
    "accuracy = np.mean(predictions == y_test)\n",
    "print(\"Accuracy:\", accuracy)\n"
   ]
  },
  {
   "cell_type": "code",
   "execution_count": 7,
   "id": "dc61d463",
   "metadata": {},
   "outputs": [
    {
     "name": "stdout",
     "output_type": "stream",
     "text": [
      "Sklearn accuracy: 0.9777777777777777\n"
     ]
    }
   ],
   "source": [
    "from sklearn.naive_bayes import GaussianNB\n",
    "model = GaussianNB()\n",
    "model.fit(X_train, y_train)\n",
    "print(\"Sklearn accuracy:\", model.score(X_test, y_test))\n"
   ]
  },
  {
   "cell_type": "code",
   "execution_count": null,
   "id": "ac103cc0",
   "metadata": {},
   "outputs": [],
   "source": []
  }
 ],
 "metadata": {
  "kernelspec": {
   "display_name": "base",
   "language": "python",
   "name": "python3"
  },
  "language_info": {
   "codemirror_mode": {
    "name": "ipython",
    "version": 3
   },
   "file_extension": ".py",
   "mimetype": "text/x-python",
   "name": "python",
   "nbconvert_exporter": "python",
   "pygments_lexer": "ipython3",
   "version": "3.12.7"
  }
 },
 "nbformat": 4,
 "nbformat_minor": 5
}
